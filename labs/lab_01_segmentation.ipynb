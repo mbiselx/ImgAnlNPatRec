{
 "cells": [
  {
   "cell_type": "markdown",
   "metadata": {},
   "source": [
    "# [IAPR][iapr]: Lab 1 ‒  Image segmentation\n",
    "\n",
    "\n",
    "**Group ID:** 37\n",
    "\n",
    "**Author 1 (sciper):** Michael Biselx    (283812)  \n",
    "**Author 2 (sciper):** Bastien Darbellay (288406)   \n",
    "**Author 3 (sciper):** Maria   Guerraoui (274578)   \n",
    "\n",
    "**Release date:** 11.03.2022\n",
    "**Due date:** 25.03.2022 (11:59 pm)\n",
    "\n",
    "\n",
    "## Important notes\n",
    "\n",
    "The lab assignments are designed to teach practical implementation of the topics presented during class well as\n",
    "preparation for the final project, which is a practical project which ties together the topics of the course.\n",
    "\n",
    "As such, in the lab assignments/final project, unless otherwise specified, you may, if you choose, use external\n",
    "functions from image processing/ML libraries like opencv and sklearn as long as there is sufficient explanation\n",
    "in the lab report. For example, you do not need to implement your own edge detector, etc.\n",
    "\n",
    "**! Before handling back the notebook <font color='red'> rerun </font>the notebook from scratch !**\n",
    "`Kernel` > `Restart & Run All`\n",
    "\n",
    "We will not rerun the notebook for you.\n",
    "\n",
    "[iapr]: https://github.com/LTS5/iapr"
   ]
  },
  {
   "cell_type": "markdown",
   "metadata": {},
   "source": [
    "---\n",
    "## 0. Extract relevant data\n",
    "We first need to extract the `lab-01-data.tar.gz` archive.\n",
    "To this end, we use the [tarfile] module from the Python standard library.\n",
    "\n",
    "[tarfile]: https://docs.python.org/3.6/library/tarfile.html"
   ]
  },
  {
   "cell_type": "code",
   "execution_count": null,
   "metadata": {},
   "outputs": [],
   "source": [
    "import tarfile\n",
    "import os\n",
    "\n",
    "data_base_path = os.path.join(os.pardir, 'data')\n",
    "data_folder = 'lab-01-data'\n",
    "tar_path = os.path.join(data_base_path, data_folder + '.tar.gz')\n",
    "\n",
    "if not os.path.exists(tar_path):\n",
    "    raise Exception('Path to is not valid {}'.format(tar_path))\n",
    "    \n",
    "with tarfile.open(tar_path, mode='r:gz') as tar:\n",
    "    tar.extractall(path=data_base_path)"
   ]
  },
  {
   "cell_type": "markdown",
   "metadata": {},
   "source": [
    "---\n",
    "## Part 1: Brain segmentation\n",
    "\n",
    "Your goal: compute the size of the brain (without the skull) in pixels in a 2D image of a human head taken by\n",
    "Magnetic Resonance Imaging (MRI) using:\n",
    "* Region growing (5 pts)\n",
    "* Contour detection (5 pts)\n",
    "* An additional method of your choice (5 pts)\n",
    "\n",
    "Each section should display the resulting segmentation as well as the size in pixel of the detected region. Comment\n",
    "each method limitations and/or advantages."
   ]
  },
  {
   "cell_type": "markdown",
   "metadata": {},
   "source": [
    "### 1.1 Brain image visualization"
   ]
  },
  {
   "cell_type": "code",
   "execution_count": null,
   "metadata": {},
   "outputs": [],
   "source": [
    "import skimage.io\n",
    "import matplotlib.pyplot as plt\n",
    "%matplotlib inline\n",
    "\n",
    "# Load image\n",
    "data_path = os.path.join(data_base_path, data_folder)\n",
    "brain_im = skimage.io.imread(os.path.join(data_path, 'brain-slice40.tiff'))\n",
    "im_h, im_w = brain_im.shape\n",
    "\n",
    "# Display MRI image\n",
    "fig, ax = plt.subplots(1, 1, figsize=(6, 6))\n",
    "ax.imshow(brain_im, cmap='gray')\n",
    "ax.set_title('MRI brain image ({} px, {} px)'.format(im_h, im_w))\n",
    "ax.axis('off')\n",
    "plt.show()"
   ]
  },
  {
   "cell_type": "markdown",
   "metadata": {},
   "source": [
    "### 1.2 Region growing (5pts)"
   ]
  },
  {
   "cell_type": "code",
   "execution_count": null,
   "metadata": {
    "ExecuteTime": {
     "end_time": "2022-03-11T08:01:13.613743Z",
     "start_time": "2022-03-11T08:01:11.036383Z"
    },
    "scrolled": false
   },
   "outputs": [],
   "source": [
    "import numpy as np\n",
    "import skimage.segmentation\n",
    "\n",
    "# use the existing image segmentation algorithm in skimage\n",
    "#  this tool extracts all contiguous pixels whose value is \n",
    "#  within a certain tolerance of the seed pixel\n",
    "seed_point = (150, 150)\n",
    "mask = skimage.segmentation.flood(brain_im, seed_point, tolerance=0.08*brain_im.max()) # heuristic thresholding\n",
    "\n",
    "# display the mask\n",
    "fig, ax = plt.subplots(1, 2, figsize=(15, 6))\n",
    "ax[0].imshow(brain_im,  cmap='gray')\n",
    "ax[1].imshow(mask, cmap='gray')\n",
    "ax[1].plot(seed_point[0], seed_point[1], 'rx')\n",
    "ax[0].set_title('Briain ({} px, {} px)'.format(im_h, im_w))\n",
    "ax[1].set_title('Briain Fill ({} px, {} px)'.format(im_h, im_w))\n",
    "for axis in ax : axis.axis('off')\n",
    "plt.show()\n",
    "\n",
    "# count the number of brain pixels \n",
    "print(\"There are {} brain pixels of {} total pixels in this image ({:.2f}%).\".format(np.sum(mask), im_h*im_w, 100*np.sum(mask)/(im_h*im_w)))\n"
   ]
  },
  {
   "cell_type": "markdown",
   "metadata": {},
   "source": [
    "### 1.3 Contour detection (5pts)"
   ]
  },
  {
   "cell_type": "code",
   "execution_count": null,
   "metadata": {},
   "outputs": [],
   "source": [
    "# Add your implementation and discussion\n",
    "import skimage.measure\n",
    "import skimage.filters\n",
    "\n",
    "edges_sobl = skimage.filters.sobel(brain_im)\n",
    "edges_edg  = (edges_sobl > (0.09*edges_sobl.max())).astype(int); # heuristic thresholding again\n",
    "mask       = skimage.segmentation.flood(edges_edg, seed_point, tolerance=0) \n",
    "\n",
    "fig, ax = plt.subplots(1, 3, figsize=(18, 8))\n",
    "ax[0].imshow(brain_im,  cmap='gray')\n",
    "ax[1].imshow(edges_edg, cmap='gray')\n",
    "ax[2].imshow(mask, cmap='gray')\n",
    "ax[2].plot(seed_point[0], seed_point[1], 'rx')\n",
    "ax[0].set_title('Briain ({} px, {} px)'.format(im_h, im_w))\n",
    "ax[1].set_title('Outlines ({} px, {} px)'.format(im_h, im_w))\n",
    "ax[2].set_title('Briain Fill ({} px, {} px)'.format(im_h, im_w))\n",
    "ax[2].plot(seed_point[0], seed_point[1], 'rx')\n",
    "for axis in ax : axis.axis('off')\n",
    "plt.show()\n",
    "\n",
    "# count the number of brain pixels \n",
    "print(\"There are {} brain pixels of {} total pixels in this image ({:.2f}%).\".format(np.sum(mask), im_h*im_w, 100*np.sum(mask)/(im_h*im_w)))\n"
   ]
  },
  {
   "cell_type": "markdown",
   "metadata": {},
   "source": [
    "### 1.4 Additional method (5pts)"
   ]
  },
  {
   "cell_type": "code",
   "execution_count": null,
   "metadata": {},
   "outputs": [],
   "source": [
    "import skimage.morphology\n",
    "# Add your implementation and discussion\n",
    "\n",
    "footprint = skimage.morphology.disk(7) # we're working with rounded shapes - use the disk\n",
    "blk_tphat = skimage.morphology.black_tophat(brain_im, footprint) # use black tophat morphology to separate the lighter brain from the surrounding darker dura mater\n",
    "mask      = skimage.segmentation.flood(blk_tphat, seed_point, tolerance=0.09*blk_tphat.max()) # heuristic thresholding for the third time\n",
    "\n",
    "\n",
    "# display the mask\n",
    "fig, ax = plt.subplots(1, 3, figsize=(18, 8))\n",
    "ax[0].imshow(brain_im,  cmap='gray')\n",
    "ax[1].imshow(blk_tphat, cmap='gray')\n",
    "ax[2].imshow(mask, cmap='gray')\n",
    "ax[2].plot(seed_point[0], seed_point[1], 'rx')\n",
    "ax[0].set_title('Briain ({} px, {} px)'.format(im_h, im_w))\n",
    "ax[1].set_title('Black Tophat ({} px, {} px)'.format(im_h, im_w))\n",
    "ax[2].set_title('Briain Fill ({} px, {} px)'.format(im_h, im_w))\n",
    "for axis in ax : axis.axis('off')\n",
    "plt.show()\n",
    "\n",
    "# count the number of brain pixels \n",
    "print(\"There are {} brain pixels of {} total pixels in this image ({:.2f}%).\".format(np.sum(mask), im_h*im_w, 100*np.sum(mask)/(im_h*im_w)))\n"
   ]
  },
  {
   "cell_type": "markdown",
   "metadata": {},
   "source": [
    "---\n",
    "## Part 2: Shape/color segmentation\n",
    "\n",
    "You will find hereafter three pictures taken under three different illuminations, containing some shapes with different\n",
    "colors. We ask you to create a routine to:\n",
    "\n",
    "1. Count the number of shapes of each color (5pts).\n",
    "2. Compute the total area (in pixels) of each color (5pts).\n",
    "\n",
    "Please note that one specific challenge is to be robust to illumination changes. Therefore some kind of intensity\n",
    "normalization should probably be used.\n",
    "\n",
    "hint: RGB color space might not be optimal. Consider using HSV or LAB color space."
   ]
  },
  {
   "cell_type": "markdown",
   "metadata": {},
   "source": [
    "### 2.1 Visualization"
   ]
  },
  {
   "cell_type": "code",
   "execution_count": null,
   "metadata": {
    "scrolled": true
   },
   "outputs": [],
   "source": [
    "# Load images\n",
    "im_names = ['arena-shapes-01', 'arena-shapes-02', 'arena-shapes-03']\n",
    "filenames = [os.path.join(data_path, name) + '.png' for name in im_names]\n",
    "ic = skimage.io.imread_collection(filenames)\n",
    "images = skimage.io.concatenate_images(ic)\n",
    "print('Number of images: ', images.shape[0])\n",
    "print('Image size: {}, {} '.format(images.shape[1], images.shape[2]))\n",
    "print('Number of color channels: ', images.shape[-1])"
   ]
  },
  {
   "cell_type": "code",
   "execution_count": null,
   "metadata": {
    "scrolled": true
   },
   "outputs": [],
   "source": [
    "# Plot images\n",
    "fig, axes = plt.subplots(1, 3, figsize=(18, 6))\n",
    "for ax, im, nm in zip(axes.ravel(), images, im_names):\n",
    "    ax.imshow(im)\n",
    "    ax.axis('off')\n",
    "    ax.set_title(nm)\n",
    "plt.show()"
   ]
  },
  {
   "cell_type": "markdown",
   "metadata": {},
   "source": [
    "### 2.2 Number of shapes of each color (5 pts)"
   ]
  },
  {
   "cell_type": "code",
   "execution_count": 160,
   "metadata": {
    "ExecuteTime": {
     "end_time": "2022-03-11T10:46:56.604968Z",
     "start_time": "2022-03-11T10:46:42.515082Z"
    }
   },
   "outputs": [
    {
     "data": {
      "image/png": "[encoded data removed]",
      "text/plain": [
       "<Figure size 720x576 with 6 Axes>"
      ]
     },
     "metadata": {
      "needs_background": "light"
     },
     "output_type": "display_data"
    }
   ],
   "source": [
    "import skimage.filters\n",
    "import skimage.color\n",
    "# Add your implementation and discussion\n",
    "\n",
    "\n",
    "def equalize_img(img) : \n",
    "    img_cp = img.copy()\n",
    "    mask = np.full(img.shape[0:2], False)\n",
    "    for c in range(0,3) : \n",
    "        thresh = skimage.filters.threshold_otsu(img[:,:,c])\n",
    "        mask = np.logical_or(mask, np.logical_and(img[:,:,c] > 0, img[:,:,c] < thresh))\n",
    "    for c in range(0,3) : \n",
    "        plow, phigh = np.percentile(img[mask,c], (2, 99))\n",
    "        img_cp[mask,c] = skimage.exposure.rescale_intensity(img[mask,c], (plow, phigh))\n",
    "    img_cp[np.logical_not(mask)] = 255;\n",
    "    \n",
    "    return img_cp\n",
    "\n",
    "def find_obj(img) :\n",
    "\n",
    "    # detect edges \n",
    "    edges_sobl = skimage.filters.sobel(img);\n",
    "    edges_gray = skimage.color.rgb2gray(edges_sobl)\n",
    "    #thresh = skimage.filters.threshold_minimum(edges_gray)  #TODO : maybe test others \n",
    "    thresh = skimage.filters.threshold_otsu(edges_gray)  #TODO : maybe test others \n",
    "    edges_bin  = (edges_gray > thresh).astype(int)\n",
    "\n",
    "    \n",
    "    # count black obj\n",
    "    edges_blck = skimage.morphology.white_tophat(edges_bin, skimage.morphology.disk(3))\n",
    "    edges_blck = skimage.morphology.area_opening(edges_blck, area_threshold=200)\n",
    "    labld_blck = skimage.measure.label(edges_blck, background=0)   \n",
    "    lmax_blck  = skimage.feature.peak_local_max(edges_blck, labels=labld_blck, num_peaks_per_label=1, exclude_border=False)\n",
    "\n",
    "    #count blue objects\n",
    "    objct_blue = edges_bin - edges_blck;\n",
    "    objct_blue = skimage.morphology.area_opening(objct_blue, area_threshold=200)\n",
    "    edges_blue = skimage.filters.sobel(objct_blue);\n",
    "    edges_blue = (edges_blue > .2*edges_blue.max()).astype(int)\n",
    "    labld_blue = skimage.measure.label(edges_blue, background=0)\n",
    "    lmax_blue  = skimage.feature.peak_local_max(edges_blue, labels=labld_blue, num_peaks_per_label=1, exclude_border=False)\n",
    "\n",
    "    \n",
    "    return edges_blue, lmax_blue, edges_blck, lmax_blck    \n",
    "    \n",
    "    \n",
    "    \n",
    "fig, axes = plt.subplots(3, 3, figsize=(12, 12))\n",
    "i = 0\n",
    "for im, nm in zip(images, im_names):\n",
    "    img_eq = equalize_img(im)\n",
    "    edges_blue, lmax_blue, edges_blck, lmax_blck = find_obj(img_eq)\n",
    "    \n",
    "    axes[0,i].imshow(img_eq) # show equalized img\n",
    "    \n",
    "    axes[1,i].imshow(edges_blue, cmap='gray') # show blue shapes \n",
    "    for p in lmax_blue : \n",
    "        axes[1,i].plot(p[1], p[0], 'rx')\n",
    "\n",
    "    axes[2,i].imshow(edges_blck, cmap='gray') # show black shapes \n",
    "    for p in lmax_blck : \n",
    "        axes[2,i].plot(p[1], p[0], 'rx')\n",
    "    \n",
    "    for ax in axes[i]: ax.axis('off')\n",
    "    axes[0,i].set_title(nm)\n",
    "    i = i+1;\n",
    "    \n",
    "    print(\"in image '{}', {} blue objects were detected and {} black objects were detected\".format(nm, lmax_blue.shape[0], lmax_blck.shape[0]))\n",
    "\n",
    "\n",
    "plt.show() \n",
    "\n"
   ]
  },
  {
   "cell_type": "markdown",
   "metadata": {},
   "source": [
    "### 2.3 Total area (in pixels) of each color (5 pts)"
   ]
  },
  {
   "cell_type": "code",
   "execution_count": null,
   "metadata": {},
   "outputs": [],
   "source": [
    "# Add your implementation and discussion\n",
    "\n",
    "\n",
    "# divide in blue and black objects as before. Do filling for black objects. Add pixel values (divide by white value) = number of pixels\n",
    "# OR (probably better) take red crosses and do a fill at those points on the original image"
   ]
  }
 ],
 "metadata": {
  "kernelspec": {
   "display_name": "Python 3 (ipykernel)",
   "language": "python",
   "name": "python3"
  },
  "language_info": {
   "codemirror_mode": {
    "name": "ipython",
    "version": 3
   },
   "file_extension": ".py",
   "mimetype": "text/x-python",
   "name": "python",
   "nbconvert_exporter": "python",
   "pygments_lexer": "ipython3",
   "version": "3.9.0"
  },
  "toc": {
   "base_numbering": 1,
   "nav_menu": {},
   "number_sections": true,
   "sideBar": true,
   "skip_h1_title": false,
   "title_cell": "Table of Contents",
   "title_sidebar": "Contents",
   "toc_cell": false,
   "toc_position": {},
   "toc_section_display": true,
   "toc_window_display": false
  }
 },
 "nbformat": 4,
 "nbformat_minor": 2
}
