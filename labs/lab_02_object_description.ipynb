{
 "cells": [
  {
   "cell_type": "markdown",
   "metadata": {},
   "source": [
    "# [IAPR][iapr]: Lab 2 ‒  Object description\n",
    "\n",
    "**Group ID:** 37\n",
    "\n",
    "**Author 1 (sciper):** Michael Biselx    (283812)  \n",
    "**Author 2 (sciper):** Bastien Darbellay (288406)   \n",
    "**Author 3 (sciper):** Maria   Guerraoui (274578)  \n",
    "\n",
    "**Release date:** 25.03.2022  \n",
    "**Due date:** 08.04.2022 (11:59 pm)\n",
    "\n",
    "\n",
    "## Important notes\n",
    "\n",
    "The lab assignments are designed to teach practical implementation of the topics presented during class well as\n",
    "preparation for the final project, which is a practical project which ties together the topics of the course.\n",
    "\n",
    "As such, in the lab assignments/final project, unless otherwise specified, you may, if you choose, use external\n",
    "functions from image processing/ML libraries like opencv and sklearn as long as there is sufficient explanation\n",
    "in the lab report. For example, you do not need to implement your own edge detector, etc.\n",
    "\n",
    "**! Before handling back the notebook <font color='red'> rerun </font>the notebook from scratch !**\n",
    "`Kernel` > `Restart & Run All`\n",
    "\n",
    "We will not rerun the notebook for you.\n",
    "\n",
    "\n",
    "[iapr]: https://github.com/LTS5/iapr"
   ]
  },
  {
   "cell_type": "markdown",
   "metadata": {},
   "source": [
    "---\n",
    "## 0. Extract relevant data\n",
    "We first need to extract the `lab-02-data.tar.gz` archive.\n",
    "To this end, we use the [tarfile] module from the Python standard library.\n",
    "\n",
    "[tarfile]: https://docs.python.org/3.6/library/tarfile.html"
   ]
  },
  {
   "cell_type": "code",
   "execution_count": null,
   "metadata": {},
   "outputs": [],
   "source": [
    "import tarfile\n",
    "import os\n",
    "\n",
    "data_base_path = os.path.join(os.pardir, 'data')\n",
    "data_folder = 'lab-02-data'\n",
    "data_part1 = os.path.join(data_base_path, data_folder, 'part1')\n",
    "data_part2 = os.path.join(data_base_path, data_folder, 'part2')\n",
    "\n",
    "tar_path = os.path.join(data_base_path, data_folder + '.tar.gz')\n",
    "with tarfile.open(tar_path, mode='r:gz') as tar:\n",
    "    tar.extractall(path=data_base_path)"
   ]
  },
  {
   "cell_type": "markdown",
   "metadata": {},
   "source": [
    "---\n",
    "## Part 1\n",
    "In the `lab-02-data/part1` folder, you will find 28x28 grey-scale pictures of handwritten \"0\" and \"1\".\n",
    "These digits have been extracted from MNIST dataset (http://yann.lecun.com/exdb/mnist/).\n",
    "\n",
    "Your goal is to extract, from each of those images, a 2-dimensional feature vector (i.e. 2 features) and to plot them all on a 2D graph.\n",
    "If you have chosen good features, the vectors of the \"0\"'s should nicely cluster in one part of the plane and those of the \"1\"'s in another.\n",
    "\n",
    "Please try:\n",
    "1. Fourier Descriptors (15pts). \n",
    "    1. Implementation (10 pts).\n",
    "    2. Showing invariance to rotation, translation and scaling (5 pts).\n",
    "2. Additional method of your choice (5 pts)\n",
    "\n",
    "\n",
    "**Note:** for the Fourier descriptors, the u_k signal has to be constructed by following the contour point after point. Some pre-processing (image binarization, possibly some Mathematical Morphology) might be useful."
   ]
  },
  {
   "cell_type": "markdown",
   "metadata": {},
   "source": [
    "### 1.1 Data visualization"
   ]
  },
  {
   "cell_type": "code",
   "execution_count": null,
   "metadata": {
    "ExecuteTime": {
     "end_time": "2022-03-25T07:34:15.622488Z",
     "start_time": "2022-03-25T07:34:09.436961Z"
    }
   },
   "outputs": [],
   "source": [
    "import skimage.io\n",
    "import matplotlib.pyplot as plt\n",
    "%matplotlib inline\n",
    "\n",
    "def load(path, digit='0'):\n",
    "    digit_path = os.path.join(path, digit)\n",
    "    digit_names = [nm for nm in os.listdir(digit_path) if '.png' in nm]  # make sure to only load .png\n",
    "    digit_names.sort()  # sort file names\n",
    "    ic = skimage.io.imread_collection([os.path.join(digit_path, nm) for nm in digit_names])\n",
    "    digit_im = skimage.io.concatenate_images(ic)\n",
    "    return digit_im, digit_names\n",
    "                        \n",
    "#  Load zeros and ones\n",
    "zeros_im, zeros_names = load(data_part1, digit='0')\n",
    "ones_im, ones_names = load(data_part1, digit='1')\n",
    "\n",
    "\n",
    "# Plot images\n",
    "fig, axes = plt.subplots(2, len(zeros_im), figsize=(12, 3))\n",
    "for ax, im, nm in zip(axes[0], zeros_im, zeros_names):\n",
    "    ax.imshow(im, cmap='gray')\n",
    "    ax.axis('off')\n",
    "    ax.set_title(nm)\n",
    "for ax, im, nm in zip(axes[1], ones_im, ones_names):\n",
    "    ax.imshow(im, cmap='gray')\n",
    "    ax.axis('off')\n",
    "    ax.set_title(nm)"
   ]
  },
  {
   "cell_type": "markdown",
   "metadata": {},
   "source": [
    "### 1.2 Fourier descriptors (15 pts)"
   ]
  },
  {
   "cell_type": "code",
   "execution_count": null,
   "metadata": {
    "ExecuteTime": {
     "end_time": "2022-03-25T09:34:49.749708Z",
     "start_time": "2022-03-25T09:34:49.499629Z"
    }
   },
   "outputs": [],
   "source": [
    "# Add your implementation and discussion\n",
    "import skimage.measure\n",
    "import skimage.transform\n",
    "import numpy as np\n",
    "\n",
    "def get_fourier_descriptors(img, nb_descr) : \n",
    "    # step 1 : extract longest continuous contour \n",
    "    all_cont  = skimage.measure.find_contours(img, 0.5*img.max())\n",
    "    long_cont = max(all_cont, key=len)\n",
    "\n",
    "    # step 2 : fourier transform the contour\n",
    "    fft_cont = np.fft.fft(long_cont[:,0] + long_cont[:,1]*1j)\n",
    "\n",
    "    # step 3 : extract the relevant descriptors (for uneven number of descriptors, default to positive side)\n",
    "    descriptors = [];\n",
    "    for n in range(1, int(nb_descr/2)+1) : \n",
    "        descriptors = [np.abs(fft_cont[-n])] + descriptors + [np.abs(fft_cont[n])]\n",
    "    if n < nb_descr/2 : \n",
    "        descriptors.append(np.abs(fft_cont[n+1]))\n",
    "        \n",
    "    # step 4 : normalize descriptors \n",
    "    descriptors = descriptors / np.linalg.norm(descriptors)\n",
    "    \n",
    "    return descriptors\n",
    "\n",
    "\n",
    "def apply_random_transform(img) :\n",
    "    translation = -2 + 4*np.random.random((1,2)) # translation = [-2  - +2]\n",
    "    rotation = 360*np.random.random()            # rotation    = [0°  - 360°]\n",
    "    scale = 0.9 + 0.1*np.random.random(1)        # scale       = [0.9 - 1.0]\n",
    "\n",
    "    tform = skimage.transform.SimilarityTransform(scale = scale, translation=translation)\n",
    "    img_r = skimage.transform.rotate(img, rotation)\n",
    "    img_t = skimage.transform.warp(img_r, tform)\n",
    "    return img_t"
   ]
  },
  {
   "cell_type": "code",
   "execution_count": null,
   "metadata": {},
   "outputs": [],
   "source": [
    "# GOAL : demonstrate the invnariance to transformation \n",
    "\n",
    "# get descriptors for the 'normal' images \n",
    "descriptors_0 = np.array([get_fourier_descriptors(img, 2) for img in zeros_im])\n",
    "descriptors_1 = np.array([get_fourier_descriptors(img, 2) for img in ones_im])\n",
    "\n",
    "# apply a random tranformation (rotation + scale + translation) to images\n",
    "zeros_im_t = [apply_random_transform(im) for im in zeros_im]\n",
    "ones_im_t = [apply_random_transform(im) for im in ones_im]\n",
    "\n",
    "# get descriptors for the tranformed images\n",
    "descriptors_0t = np.array([get_fourier_descriptors(im, 2) for im in zeros_im_t])\n",
    "descriptors_1t = np.array([get_fourier_descriptors(im, 2) for im in ones_im_t])\n",
    "\n",
    "\n",
    "\n",
    "# plot transformed images \n",
    "fig, axes = plt.subplots(2, len(zeros_im_t), figsize=(12, 3))\n",
    "for ax, im, nm in zip(axes[0], zeros_im_t, zeros_names):\n",
    "    ax.imshow(im, cmap='gray')\n",
    "    ax.axis('off')\n",
    "    ax.set_title(nm)\n",
    "for ax, im, nm in zip(axes[1], ones_im_t, ones_names):\n",
    "    ax.imshow(im, cmap='gray')\n",
    "    ax.axis('off')\n",
    "    ax.set_title(nm)\n",
    "\n",
    "# plot descriptors \n",
    "fig, axes = plt.subplots(1, 2, figsize=(12, 5))\n",
    "\n",
    "axes[0].plot(descriptors_0[:,0],descriptors_0[:,1], 'rx')\n",
    "axes[0].plot(descriptors_1[:,0],descriptors_1[:,1], 'bx')\n",
    "axes[0].set_title(\"discriptors of 'normal' imgs\")\n",
    "\n",
    "axes[1].plot(descriptors_0t[:,0],descriptors_0t[:,1], 'rx')\n",
    "axes[1].plot(descriptors_1t[:,0],descriptors_1t[:,1], 'bx')\n",
    "axes[1].set_title(\"discriptors of 'transformed' imgs\")\n",
    "\n",
    "for ax in axes : \n",
    "    ax.legend([\"zeros\", \"ones\"])\n",
    "    ax.set_xlabel(\"descriptor 1\")\n",
    "    ax.set_ylabel(\"descriptor 2\")\n",
    "    ax.axis('equal')    \n",
    "\n",
    "plt.show()"
   ]
  },
  {
   "cell_type": "markdown",
   "metadata": {},
   "source": [
    "### 1.3 Additional method (5 pts)"
   ]
  },
  {
   "cell_type": "code",
   "execution_count": null,
   "metadata": {
    "ExecuteTime": {
     "end_time": "2022-03-25T10:24:40.707692Z",
     "start_time": "2022-03-25T10:24:40.689710Z"
    }
   },
   "outputs": [],
   "source": [
    "def PolyArea(contour):\n",
    "    return 0.5*np.abs(np.dot(contour[:,0],np.roll(contour[:,1],1))-np.dot(contour[:,1],np.roll(contour[:,0],1)))\n",
    "\n",
    "def GetSurfaceArea(contour, shape=\"rectangle\"):\n",
    "    if shape == \"rectangle\":\n",
    "        w = max(contour[:,0])-min(contour[:,0])\n",
    "        h = max(contour[:,1])-min(contour[:,1])\n",
    "        A = h*w\n",
    "    elif shape == \"ellipse\":\n",
    "        w = max(contour[:,0])-min(contour[:,0])\n",
    "        h = max(contour[:,1])-min(contour[:,1])\n",
    "        A = h*w*np.pi\n",
    "    return A\n",
    "        \n",
    "\n",
    "def GetRatios(images, shape=\"rectangle\"):\n",
    "    ratios = []\n",
    "    for img in images:\n",
    "        contour = max(skimage.measure.find_contours(img), key=len)\n",
    "        A = GetSurfaceArea(contour, shape)\n",
    "        P = PolyArea(contour)\n",
    "        ratios.append(P/A)\n",
    "    return ratios"
   ]
  },
  {
   "cell_type": "code",
   "execution_count": null,
   "metadata": {
    "ExecuteTime": {
     "end_time": "2022-03-25T10:25:41.214618Z",
     "start_time": "2022-03-25T10:25:41.064888Z"
    }
   },
   "outputs": [],
   "source": [
    "# Add your implementation and discussion\n",
    "shape = \"rectangle\"\n",
    "zeros_ratios = GetRatios(zeros_im, shape)\n",
    "ones_ratios = GetRatios(ones_im, shape)\n",
    "\n",
    "xmax = max(ones_ratios+zeros_ratios)+0.1\n",
    "xmin = min(ones_ratios+zeros_ratios)-0.1\n",
    "plt.figure()\n",
    "#plt.hlines(0,xmin,xmax)  # Draw a horizontal line\n",
    "plt.xlim(xmin,xmax)\n",
    "plt.ylim(-0.5,0.5)\n",
    "plt.eventplot(ones_ratios, orientation='horizontal', lineoffset=0, colors='r', label='Ones')\n",
    "plt.eventplot(zeros_ratios, orientation='horizontal', lineoffset=0, colors='b', label='Zeros')\n",
    "#plt.set_title(\"test\")\n",
    "plt.axis('on')\n",
    "plt.legend()\n",
    "plt.show()"
   ]
  },
  {
   "cell_type": "markdown",
   "metadata": {},
   "source": [
    "---\n",
    "## Part 2\n",
    "The `lab-02-data/part2` folder contains grey-scale pictures of handwritten \"2\" and \"3\".\n",
    "Extract the same feature (typically 2 Fourier descriptors) as in part 1 also on these images and plot them on the same graph as the features of the \"0\" and \"1\".\n",
    "Is it possible to discriminate all these 4 digits with a 2-dimensional feature vector?"
   ]
  },
  {
   "cell_type": "markdown",
   "metadata": {},
   "source": [
    "### 2.1 Data visualization"
   ]
  },
  {
   "cell_type": "code",
   "execution_count": null,
   "metadata": {
    "ExecuteTime": {
     "end_time": "2022-03-25T09:21:24.135944Z",
     "start_time": "2022-03-25T09:21:23.503380Z"
    }
   },
   "outputs": [],
   "source": [
    "#  Load twos and threes\n",
    "twos_im, twos_names = load(data_part2, digit='2')\n",
    "threes_im, threes_names = load(data_part2, digit='3')\n",
    "\n",
    "# Plot images\n",
    "fig, axes = plt.subplots(2, len(twos_im), figsize=(12, 3))\n",
    "for ax, im, nm in zip(axes[0], twos_im, twos_names):\n",
    "    ax.imshow(im, cmap='gray')\n",
    "    ax.axis('off')\n",
    "    ax.set_title(nm)\n",
    "for ax, im, nm in zip(axes[1], threes_im, threes_names):\n",
    "    ax.imshow(im, cmap='gray')\n",
    "    ax.axis('off')\n",
    "    ax.set_title(nm)"
   ]
  },
  {
   "cell_type": "markdown",
   "metadata": {},
   "source": [
    "### 2.2 Fourier descriptors - 4 digits (10 pts)"
   ]
  },
  {
   "cell_type": "code",
   "execution_count": null,
   "metadata": {},
   "outputs": [],
   "source": [
    "# Add your implementation and discussion"
   ]
  }
 ],
 "metadata": {
  "kernelspec": {
   "display_name": "Python 3 (ipykernel)",
   "language": "python",
   "name": "python3"
  },
  "language_info": {
   "codemirror_mode": {
    "name": "ipython",
    "version": 3
   },
   "file_extension": ".py",
   "mimetype": "text/x-python",
   "name": "python",
   "nbconvert_exporter": "python",
   "pygments_lexer": "ipython3",
   "version": "3.9.0"
  },
  "toc": {
   "base_numbering": 1,
   "nav_menu": {},
   "number_sections": true,
   "sideBar": true,
   "skip_h1_title": false,
   "title_cell": "Table of Contents",
   "title_sidebar": "Contents",
   "toc_cell": false,
   "toc_position": {},
   "toc_section_display": true,
   "toc_window_display": false
  }
 },
 "nbformat": 4,
 "nbformat_minor": 2
}
